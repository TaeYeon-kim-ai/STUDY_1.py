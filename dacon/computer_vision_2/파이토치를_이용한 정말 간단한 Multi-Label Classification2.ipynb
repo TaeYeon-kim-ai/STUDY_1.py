{
 "metadata": {
  "language_info": {
   "codemirror_mode": {
    "name": "ipython",
    "version": 3
   },
   "file_extension": ".py",
   "mimetype": "text/x-python",
   "name": "python",
   "nbconvert_exporter": "python",
   "pygments_lexer": "ipython3",
   "version": "3.7.9-final"
  },
  "orig_nbformat": 2,
  "kernelspec": {
   "name": "python3",
   "display_name": "Python 3",
   "language": "python"
  }
 },
 "nbformat": 4,
 "nbformat_minor": 2,
 "cells": [
  {
   "cell_type": "code",
   "execution_count": 1,
   "metadata": {},
   "outputs": [],
   "source": [
    "import os\n",
    "from typing import Tuple, Sequence, Callable\n",
    "import csv\n",
    "import cv2\n",
    "import numpy as np\n",
    "import pandas as pd\n",
    "from PIL import Image\n",
    "import torch\n",
    "import torch.optim as optim\n",
    "from torch import nn, Tensor\n",
    "from torch.utils.data import Dataset, DataLoader\n",
    "from torchinfo import summary\n",
    "\n",
    "from torchvision import transforms\n",
    "from torchvision.models import resnet50"
   ]
  },
  {
   "source": [
    "## 1. 커스텀 데이터셋 만들기"
   ],
   "cell_type": "markdown",
   "metadata": {}
  },
  {
   "cell_type": "code",
   "execution_count": 2,
   "metadata": {},
   "outputs": [],
   "source": [
    "class MnistDataset(Dataset):\n",
    "    def __init__(\n",
    "        self,\n",
    "        dir: os.PathLike,\n",
    "        image_ids: os.PathLike,\n",
    "        transforms: Sequence[Callable]\n",
    "    ) -> None:\n",
    "        self.dir = dir\n",
    "        self.transforms = transforms\n",
    "\n",
    "        self.labels = {}\n",
    "        with open(image_ids, 'r') as f:\n",
    "            reader = csv.reader(f)\n",
    "            next(reader)\n",
    "            for row in reader:\n",
    "                self.labels[int(row[0])] = list(map(int, row[1:]))\n",
    "\n",
    "        self.image_ids = list(self.labels.keys())\n",
    "\n",
    "    def __len__(self) -> int:\n",
    "        return len(self.image_ids)\n",
    "\n",
    "    def __getitem__(self, index: int) -> Tuple[Tensor]:\n",
    "        image_id = self.image_ids[index]\n",
    "        image = Image.open(\n",
    "            os.path.join(\n",
    "                self.dir, f'{str(image_id).zfill(5)}.png')).convert('RGB')\n",
    "        target = np.array(self.labels.get(image_id)).astype(np.float32)\n",
    "\n",
    "        if self.transforms is not None:\n",
    "            image = self.transforms(image)\n",
    "\n",
    "        return image, target"
   ]
  },
  {
   "source": [
    "## 2. 이미지 어그멘테이션"
   ],
   "cell_type": "markdown",
   "metadata": {}
  },
  {
   "cell_type": "code",
   "execution_count": 3,
   "metadata": {},
   "outputs": [],
   "source": [
    "transforms_train = transforms.Compose([\n",
    "    transforms.RandomHorizontalFlip(p=0.5),\n",
    "    transforms.RandomVerticalFlip(p=0.5),\n",
    "    transforms.ToTensor(),\n",
    "    transforms.Normalize(\n",
    "        [0.485, 0.456, 0.406],\n",
    "        [0.229, 0.224, 0.225]\n",
    "    )\n",
    "])\n",
    "\n",
    "transforms_test = transforms.Compose([\n",
    "    transforms.ToTensor(),\n",
    "    transforms.Normalize(\n",
    "        [0.485, 0.456, 0.406],\n",
    "        [0.229, 0.224, 0.225]\n",
    "    )\n",
    "])"
   ]
  },
  {
   "cell_type": "code",
   "execution_count": 4,
   "metadata": {},
   "outputs": [],
   "source": [
    "trainset = MnistDataset('data/train', 'data/dirty_mnist_answer.csv', transforms_train)\n",
    "testset = MnistDataset('data/test', 'data/sample_submission.csv', transforms_test)\n",
    "\n",
    "train_loader = DataLoader(trainset, batch_size=256, num_workers=8)\n",
    "test_loader = DataLoader(testset, batch_size=32, num_workers=4)"
   ]
  },
  {
   "source": [
    "## 3. ResNet50 모형"
   ],
   "cell_type": "markdown",
   "metadata": {}
  },
  {
   "cell_type": "code",
   "execution_count": 5,
   "metadata": {},
   "outputs": [
    {
     "output_type": "stream",
     "name": "stdout",
     "text": [
      "==========================================================================================\nLayer (type:depth-idx)                   Output Shape              Param #\n==========================================================================================\n├─ResNet: 1-1                            [1, 1000]                 --\n|    └─Conv2d: 2-1                       [1, 64, 128, 128]         9,408\n|    └─BatchNorm2d: 2-2                  [1, 64, 128, 128]         128\n|    └─ReLU: 2-3                         [1, 64, 128, 128]         --\n|    └─MaxPool2d: 2-4                    [1, 64, 64, 64]           --\n|    └─Sequential: 2-5                   [1, 256, 64, 64]          --\n|    |    └─Bottleneck: 3-1              [1, 256, 64, 64]          75,008\n|    |    └─Bottleneck: 3-2              [1, 256, 64, 64]          70,400\n|    |    └─Bottleneck: 3-3              [1, 256, 64, 64]          70,400\n|    └─Sequential: 2-6                   [1, 512, 32, 32]          --\n|    |    └─Bottleneck: 3-4              [1, 512, 32, 32]          379,392\n|    |    └─Bottleneck: 3-5              [1, 512, 32, 32]          280,064\n|    |    └─Bottleneck: 3-6              [1, 512, 32, 32]          280,064\n|    |    └─Bottleneck: 3-7              [1, 512, 32, 32]          280,064\n|    └─Sequential: 2-7                   [1, 1024, 16, 16]         --\n|    |    └─Bottleneck: 3-8              [1, 1024, 16, 16]         1,512,448\n|    |    └─Bottleneck: 3-9              [1, 1024, 16, 16]         1,117,184\n|    |    └─Bottleneck: 3-10             [1, 1024, 16, 16]         1,117,184\n|    |    └─Bottleneck: 3-11             [1, 1024, 16, 16]         1,117,184\n|    |    └─Bottleneck: 3-12             [1, 1024, 16, 16]         1,117,184\n|    |    └─Bottleneck: 3-13             [1, 1024, 16, 16]         1,117,184\n|    └─Sequential: 2-8                   [1, 2048, 8, 8]           --\n|    |    └─Bottleneck: 3-14             [1, 2048, 8, 8]           6,039,552\n|    |    └─Bottleneck: 3-15             [1, 2048, 8, 8]           4,462,592\n|    |    └─Bottleneck: 3-16             [1, 2048, 8, 8]           4,462,592\n|    └─AdaptiveAvgPool2d: 2-9            [1, 2048, 1, 1]           --\n|    └─Linear: 2-10                      [1, 1000]                 2,049,000\n├─Linear: 1-2                            [1, 26]                   26,026\n==========================================================================================\nTotal params: 25,583,058\nTrainable params: 25,583,058\nNon-trainable params: 0\nTotal mult-adds (G): 4.95\n==========================================================================================\nInput size (MB): 0.79\nForward/backward pass size (MB): 200.81\nParams size (MB): 102.33\nEstimated Total Size (MB): 303.93\n==========================================================================================\n"
     ]
    }
   ],
   "source": [
    "class MnistModel(nn.Module):\n",
    "    def __init__(self) -> None:\n",
    "        super().__init__()\n",
    "        self.resnet = resnet50(pretrained=True)\n",
    "        self.classifier = nn.Linear(1000, 26)\n",
    "\n",
    "    def forward(self, x):\n",
    "        x = self.resnet(x)\n",
    "        x = self.classifier(x)\n",
    "\n",
    "        return x\n",
    "\n",
    "device = torch.device('cuda' if torch.cuda.is_available() else 'cpu')\n",
    "model = MnistModel().to(device)\n",
    "print(summary(model, input_size=(1, 3, 256, 256), verbose=0))"
   ]
  },
  {
   "source": [
    "## 4. 학습하기"
   ],
   "cell_type": "markdown",
   "metadata": {}
  },
  {
   "cell_type": "code",
   "execution_count": null,
   "metadata": {},
   "outputs": [],
   "source": [
    "optimizer = optim.Adam(model.parameters(), lr=1e-3)\n",
    "criterion = nn.MultiLabelSoftMarginLoss()\n",
    "\n",
    "num_epochs = 10\n",
    "model.train()\n",
    "\n",
    "for epoch in range(num_epochs):\n",
    "    for i, (images, targets) in enumerate(train_loader):\n",
    "        optimizer.zero_grad()\n",
    "\n",
    "        images = images.to(device)\n",
    "        targets = targets.to(device)\n",
    "\n",
    "        outputs = model(images)\n",
    "        loss = criterion(outputs, targets)\n",
    "\n",
    "        loss.backward()\n",
    "        optimizer.step()\n",
    "\n",
    "        if (i+1) % 10 == 0:\n",
    "            outputs = outputs > 0.5\n",
    "            acc = (outputs == targets).float().mean()\n",
    "            print(f'{epoch}: {loss.item():.5f}, {acc.item():.5f}')"
   ]
  },
  {
   "source": [
    "## 5. 추론하기"
   ],
   "cell_type": "markdown",
   "metadata": {}
  },
  {
   "cell_type": "code",
   "execution_count": 11,
   "metadata": {},
   "outputs": [],
   "source": [
    "submit = pd.read_csv('data/sample_submission.csv')\n",
    "\n",
    "model.eval()\n",
    "batch_size = test_loader.batch_size\n",
    "batch_index = 0\n",
    "for i, (images, targets) in enumerate(test_loader):\n",
    "    images = images.to(device)\n",
    "    targets = targets.to(device)\n",
    "    outputs = model(images)\n",
    "    outputs = outputs > 0.5\n",
    "    batch_index = i * batch_size\n",
    "    submit.iloc[batch_index:batch_index+batch_size, 1:] = \\\n",
    "        outputs.long().squeeze(0).detach().cpu().numpy()\n",
    "    \n",
    "submit.to_csv('submit.csv', index=False)"
   ]
  }
 ]
}